{
 "cells": [
  {
   "cell_type": "code",
   "execution_count": null,
   "metadata": {},
   "outputs": [],
   "source": [
    "# problem 1\n",
    "nnm=int(input(\"Input the Natural Number \"))\n",
    "for i in range(1,nnm+1):\n",
    "    print(i)\n",
    "print(\"Reverse Order\")\n",
    "ncm=nnm\n",
    "while nnm>=ncm:\n",
    "    print(ncm)\n",
    "    ncm+=-1\n",
    "    if ncm==0:\n",
    "        break"
   ]
  },
  {
   "cell_type": "code",
   "execution_count": null,
   "metadata": {},
   "outputs": [],
   "source": [
    "# problem 2\n",
    "print(\"This program can find Numbers divisible by 7 but not 5 between 2000 and 3200\")\n",
    "for i in range(2000,3201):\n",
    "    if i%7==0 and not(i%5==0):\n",
    "        print(i)"
   ]
  },
  {
   "cell_type": "code",
   "execution_count": null,
   "metadata": {},
   "outputs": [],
   "source": [
    "# problem 3\n",
    "# below is the code for finding sum of sq. of 1st 100 numbers\n",
    "_sqsum100=0\n",
    "for i in range(1,101):\n",
    "    _sqsum100=_sqsum100+(i**2)\n",
    "# below is the code for finding sq. of sum of 1st 100 numbers\n",
    "n=1\n",
    "_sumsq=0\n",
    "while n<=100:\n",
    "    _sumsq=_sumsq+n\n",
    "    n+=1\n",
    "_sumsq=(_sumsq)**2\n",
    "# below is the code for finding the difference\n",
    "print(_sumsq-_sqsum100)"
   ]
  },
  {
   "cell_type": "code",
   "execution_count": null,
   "metadata": {},
   "outputs": [],
   "source": [
    "# problem 4\n",
    "Integ=[]\n",
    "for k in range(0,7):\n",
    "    Integ.append(k)\n",
    "print(Integ)"
   ]
  },
  {
   "cell_type": "code",
   "execution_count": null,
   "metadata": {},
   "outputs": [],
   "source": [
    "# problem 5\n",
    "EvenIN=[]\n",
    "for l in range(1,21):\n",
    "    if l%2==0:\n",
    "        EvenIN.append(l)\n",
    "print(EvenIN)"
   ]
  }
 ],
 "metadata": {
  "kernelspec": {
   "display_name": "Python 3",
   "language": "python",
   "name": "python3"
  },
  "language_info": {
   "codemirror_mode": {
    "name": "ipython",
    "version": 3
   },
   "file_extension": ".py",
   "mimetype": "text/x-python",
   "name": "python",
   "nbconvert_exporter": "python",
   "pygments_lexer": "ipython3",
   "version": "3.8.5"
  }
 },
 "nbformat": 4,
 "nbformat_minor": 4
}
